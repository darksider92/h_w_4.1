{
 "cells": [
  {
   "cell_type": "code",
   "execution_count": 22,
   "metadata": {
    "collapsed": true
   },
   "outputs": [],
   "source": [
    "import pandas as pd\n",
    "from collections import OrderedDict\n",
    "\n",
    "\n",
    "PATH = \"./names/\""
   ]
  },
  {
   "cell_type": "code",
   "execution_count": 23,
   "metadata": {
    "collapsed": false
   },
   "outputs": [
    {
     "name": "stdout",
     "output_type": "stream",
     "text": [
      "[{'Mary': 16707}, {'James': 86266}, {'Jacob': 34467}, {'James': 62473}]\n",
      "OrderedDict([('James', 86266), ('Jacob', 34467), ('Mary', 16707)])\n"
     ]
    }
   ],
   "source": [
    "def result(years):\n",
    "    name_three_arg = []\n",
    "    array_name = []\n",
    "    cols = ['Name', 'Gender', 'Count']\n",
    "    for year in years:\n",
    "        read_file_csv = pd.read_csv(PATH + \"yob\" + str(year) + \".txt\", names=cols)\n",
    "        read_file_csv.sort_values(by=\"Count\", ascending=False, inplace=True, axis=0)\n",
    "        array_name.append(read_file_csv)\n",
    "    \n",
    "    if len(array_name) == 1:\n",
    "        dataframe = array_name[0]\n",
    "        top3 = dict(zip(list(dataframe['Name'])[:3], list(dataframe['Count'])[:3]))\n",
    "        print(top3)\n",
    "        \n",
    "\n",
    "    elif len(array_name) > 1:\n",
    "        for i in range(0, len(array_name), 1):\n",
    "            dataframe_3 = array_name[i]\n",
    "            result_top3 = dict(zip(list(dataframe_3['Name'])[:1], list(dataframe_3['Count'])[:1]))\n",
    "            name_three_arg.append(result_top3)\n",
    "        print(name_three_arg)\n",
    "        \n",
    "        \n",
    "    sorted_pairs = sorted(((k, v) for d in name_three_arg for k, v in d.items()), \n",
    "                          key=lambda pair: pair[1], reverse=True)\n",
    "    output = OrderedDict()\n",
    "    for k, v in sorted_pairs:\n",
    "        if k not in output:\n",
    "            output[k] = v\n",
    "            if len(output) == 3:\n",
    "                break\n",
    "    print(output)\n",
    "        \n",
    "#     for i in name_three_arg:\n",
    "#         print(i)\n",
    "    \n",
    "                                              \n",
    "result([1900,1950,2000,1940])\n",
    "        \n"
   ]
  },
  {
   "cell_type": "code",
   "execution_count": 24,
   "metadata": {
    "collapsed": false
   },
   "outputs": [],
   "source": [
    "def count_gender(years):\n",
    "    cols = ['Name', 'Gender', 'Count']\n",
    "    array ={\"Man\":[],\"Woman\":[]}\n",
    "    for year in years:\n",
    "        read_file_csv = pd.read_csv(PATH + \"yob\" + str(year) + \".txt\", names=cols)\n",
    "        array[\"Man\"].append(read_file_csv[read_file_csv.Gender == \"M\"].Count.sum())\n",
    "        array[\"Woman\"].append(read_file_csv[read_file_csv.Gender == \"F\"].Count.sum())\n",
    "    print(array)\n",
    "        \n",
    "\n"
   ]
  },
  {
   "cell_type": "code",
   "execution_count": 25,
   "metadata": {
    "collapsed": false
   },
   "outputs": [
    {
     "name": "stdout",
     "output_type": "stream",
     "text": [
      "{'Man': [150490, 1791474, 1962556], 'Woman': [299822, 1713450, 1814738]}\n"
     ]
    }
   ],
   "source": [
    "count_gender([1900,1950, 2000])"
   ]
  },
  {
   "cell_type": "code",
   "execution_count": null,
   "metadata": {
    "collapsed": true
   },
   "outputs": [],
   "source": []
  }
 ],
 "metadata": {
  "kernelspec": {
   "display_name": "Python 3",
   "language": "python",
   "name": "python3"
  },
  "language_info": {
   "codemirror_mode": {
    "name": "ipython",
    "version": 3
   },
   "file_extension": ".py",
   "mimetype": "text/x-python",
   "name": "python",
   "nbconvert_exporter": "python",
   "pygments_lexer": "ipython3",
   "version": "3.6.0"
  }
 },
 "nbformat": 4,
 "nbformat_minor": 2
}
